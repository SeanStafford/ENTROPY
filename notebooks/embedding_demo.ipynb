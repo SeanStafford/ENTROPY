{
 "cells": [
  {
   "cell_type": "markdown",
   "metadata": {},
   "source": [
    "# Embedding Document Store Demo\n",
    "\n",
    "This notebook demonstrates the `EmbeddingDocumentStore` class for semantic similarity retrieval of financial documents."
   ]
  },
  {
   "cell_type": "code",
   "execution_count": null,
   "metadata": {},
   "outputs": [],
   "source": [
    "from entropy.contexts.retrieval import EmbeddingDocumentStore, YFinanceFetcher\n",
    "from entropy.utils.Seans_helpers import print_obj_map\n",
    "import numpy as np\n",
    "import os\n",
    "from dotenv import load_dotenv\n",
    "from pathlib import Path\n",
    "\n",
    "load_dotenv();"
   ]
  },
  {
   "cell_type": "markdown",
   "metadata": {},
   "source": [
    "## Setup"
   ]
  },
  {
   "cell_type": "code",
   "execution_count": null,
   "metadata": {},
   "outputs": [],
   "source": [
    "refresh = True  # Set to True to force rebuild the store\n",
    "faiss_store_path = Path(os.getenv(\"DATA_PROCESSED_PATH\"))  / \"embedding_store_demo.faiss\"\n",
    "pickle_store_path = Path(os.getenv(\"DATA_PROCESSED_PATH\"))  / \"embedding_store_demo.pkl\"\n",
    "\n",
    "# load existing store with previously fetched data or fetch new data and save it into a newly created store\n",
    "fetch_new_data = refresh or not os.path.exists(faiss_store_path) or not os.path.exists(pickle_store_path)\n",
    "\n",
    "if fetch_new_data:\n",
    "    print(\"New data will be fetched.\")\n",
    "else:\n",
    "    print(\"Existing store found, no need to fetch new data.\")"
   ]
  },
  {
   "cell_type": "markdown",
   "metadata": {},
   "source": [
    "Fetch from yfinance for a few example stocks."
   ]
  },
  {
   "cell_type": "code",
   "execution_count": null,
   "metadata": {},
   "outputs": [],
   "source": [
    "if fetch_new_data:\n",
    "    # Fetch news from yfinance\n",
    "    tickers = [\"AAPL\", \"TSLA\", \"MSFT\", \"NVDA\"]\n",
    "    fetcher = YFinanceFetcher()\n",
    "    texts, metadata = fetcher.fetch_news(tickers)\n",
    "\n",
    "    print(f\"Fetched {len(texts)} articles across {len(tickers)} tickers\")\n",
    "else:\n",
    "    print(\"This step unnecessary because existing store found.\")"
   ]
  },
  {
   "cell_type": "markdown",
   "metadata": {},
   "source": [
    "## Create and Populate Store\n",
    "\n",
    "Initialize the embedding document store and index the fetched articles."
   ]
  },
  {
   "cell_type": "code",
   "execution_count": null,
   "metadata": {},
   "outputs": [],
   "source": [
    "if not fetch_new_data:\n",
    "    print(f\"Loading existing store from {pickle_store_path}\")\n",
    "    store = EmbeddingDocumentStore.load(pickle_store_path)\n",
    "else:\n",
    "    print(\"Creating new store and indexing documents...\")\n",
    "    store = EmbeddingDocumentStore()\n",
    "    store.add_documents(texts, metadata)\n",
    "    \n",
    "    # Save for future use\n",
    "    store.save(pickle_store_path)\n",
    "    print(f\"Saved store to {pickle_store_path}\")\n",
    "\n",
    "stats = store.get_stats()\n",
    "print(f\"Documents: {stats['num_documents']}\")\n",
    "print(f\"Embedding dimension: {store.dimension}\")\n",
    "print(f\"Tickers: {', '.join(stats['tickers'])}\")"
   ]
  },
  {
   "cell_type": "markdown",
   "metadata": {},
   "source": [
    "## Search with Embeddings\n",
    "\n",
    "Search for documents using semantic similarity. Unlike BM25, embeddings understand meaning and concepts, not just keywords."
   ]
  },
  {
   "cell_type": "code",
   "execution_count": null,
   "metadata": {},
   "outputs": [],
   "source": [
    "def print_search_result_summary(results, query=None):\n",
    "    if query is not None:\n",
    "        print(f\"\\nQuery: '{query}'\\n\")\n",
    "\n",
    "    for i, result in enumerate(results):\n",
    "        doc = result[\"document\"]\n",
    "        score = result[\"score\"]\n",
    "        tickers = \", \".join(doc['metadata']['tickers'])\n",
    "        print(f\"{i+1}. [{tickers}] {doc['metadata']['title']}\")\n",
    "        print(f\"   Distance: {score:.4f}\")  # lower = better\n",
    "\n",
    "    print(\"Note: lower distances are better matches\")"
   ]
  },
  {
   "cell_type": "code",
   "execution_count": null,
   "metadata": {},
   "outputs": [],
   "source": [
    "query = \"companies with strong cloud business growth\"\n",
    "\n",
    "results = store.search(query, k=5)\n",
    "\n",
    "print_search_result_summary(results, query=query)"
   ]
  },
  {
   "cell_type": "markdown",
   "metadata": {},
   "source": [
    "## Semantic Understanding\n",
    "\n",
    "Embeddings excel at understanding concepts without exact keyword matches. Try different conceptual queries:"
   ]
  },
  {
   "cell_type": "code",
   "execution_count": null,
   "metadata": {},
   "outputs": [],
   "source": [
    "# Test semantic understanding with queries that don't have exact keyword matches\n",
    "semantic_queries = [\n",
    "    \"electric vehicle manufacturers\",\n",
    "    \"artificial intelligence chip makers\",\n",
    "    \"quarterly financial performance\"\n",
    "]\n",
    "\n",
    "for query in semantic_queries:\n",
    "    results = store.search(query, k=2)\n",
    "    print_search_result_summary(results, query=query)\n",
    "    print()"
   ]
  },
  {
   "cell_type": "markdown",
   "metadata": {},
   "source": [
    "## Filter by Ticker\n",
    "\n",
    "Search within a specific ticker symbol to narrow results."
   ]
  },
  {
   "cell_type": "code",
   "execution_count": null,
   "metadata": {},
   "outputs": [],
   "source": [
    "query = \"latest developments\"\n",
    "results = store.search(query, k=5, filter_ticker=\"TSLA\")\n",
    "\n",
    "print_search_result_summary(results, query=query)"
   ]
  },
  {
   "cell_type": "markdown",
   "metadata": {},
   "source": [
    "## Inspect Embeddings\n",
    "\n",
    "Look at the dense vector representation of a document."
   ]
  },
  {
   "cell_type": "code",
   "execution_count": null,
   "metadata": {},
   "outputs": [],
   "source": [
    "# Get embedding for query\n",
    "sample_embedding = store.model.encode([query])[0]\n",
    "\n",
    "print(f\"Embedded text: \\\"{query}\\\"\")\n",
    "print(f\"Embedding type: {type(sample_embedding)} | Embedding shape: {sample_embedding.shape}\")\n",
    "print(f\"\\nFirst 10 dimensions: {sample_embedding[:10]}\")"
   ]
  }
 ],
 "metadata": {
  "kernelspec": {
   "display_name": ".venv",
   "language": "python",
   "name": "python3"
  },
  "language_info": {
   "codemirror_mode": {
    "name": "ipython",
    "version": 3
   },
   "file_extension": ".py",
   "mimetype": "text/x-python",
   "name": "python",
   "nbconvert_exporter": "python",
   "pygments_lexer": "ipython3",
   "version": "3.10.9"
  }
 },
 "nbformat": 4,
 "nbformat_minor": 4
}
