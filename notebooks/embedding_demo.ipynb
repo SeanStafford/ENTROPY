{
 "cells": [
  {
   "cell_type": "markdown",
   "metadata": {},
   "source": [
    "# Embedding Document Store Demo\n",
    "\n",
    "This notebook demonstrates the `EmbeddingDocumentStore` class for semantic similarity retrieval of financial documents."
   ]
  },
  {
   "cell_type": "code",
   "execution_count": null,
   "metadata": {},
   "outputs": [],
   "source": [
    "from entropy.contexts.retrieval import EmbeddingDocumentStore, YFinanceFetcher\n",
    "from entropy.utils.Seans_helpers import print_obj_map\n",
    "import numpy as np"
   ]
  },
  {
   "cell_type": "markdown",
   "metadata": {},
   "source": [
    "## Setup\n",
    "\n",
    "Fetch from yfinance for a few example stocks."
   ]
  },
  {
   "cell_type": "code",
   "execution_count": null,
   "metadata": {},
   "outputs": [],
   "source": [
    "# Fetch real news from yfinance\n",
    "tickers = [\"AAPL\", \"TSLA\", \"MSFT\", \"NVDA\"]\n",
    "fetcher = YFinanceFetcher()\n",
    "texts, metadata = fetcher.fetch_news(tickers)\n",
    "\n",
    "print(f\"Fetched {len(texts)} articles across {len(tickers)} tickers\")"
   ]
  },
  {
   "cell_type": "markdown",
   "metadata": {},
   "source": [
    "## Create and Populate Store\n",
    "\n",
    "Initialize the embedding document store and index the fetched articles."
   ]
  },
  {
   "cell_type": "code",
   "execution_count": null,
   "metadata": {},
   "outputs": [],
   "source": [
    "store = EmbeddingDocumentStore()\n",
    "store.add_documents(texts, metadata)\n",
    "\n",
    "stats = store.get_stats()\n",
    "print(f\"Documents: {stats['num_documents']}\")\n",
    "print(f\"Embedding dimension: {store.dimension}\")\n",
    "print(f\"Tickers: {', '.join(stats['tickers'])}\")"
   ]
  },
  {
   "cell_type": "markdown",
   "metadata": {},
   "source": [
    "## Search with Embeddings\n",
    "\n",
    "Search for documents using semantic similarity. Unlike BM25, embeddings understand meaning and concepts, not just keywords."
   ]
  },
  {
   "cell_type": "code",
   "execution_count": null,
   "metadata": {},
   "outputs": [],
   "source": [
    "def print_search_result_summary(results, query=None):\n",
    "    if query is not None:\n",
    "        print(f\"\\nQuery: '{query}'\\n\")\n",
    "\n",
    "    for i, result in enumerate(results):\n",
    "        doc = result[\"document\"]\n",
    "        score = result[\"score\"]\n",
    "        print(f\"{i+1}. [{doc['metadata']['ticker']}] {doc['metadata']['title']}\")\n",
    "        print(f\"   Distance: {score:.4f}\")  # lower = better\n",
    "\n",
    "    print(\"Note: lower distances are better matches\")"
   ]
  },
  {
   "cell_type": "code",
   "execution_count": null,
   "metadata": {},
   "outputs": [],
   "source": [
    "query = \"companies with strong cloud business growth\"\n",
    "\n",
    "results = store.search(query, k=5)\n",
    "\n",
    "print_search_result_summary(results, query=query)"
   ]
  },
  {
   "cell_type": "markdown",
   "metadata": {},
   "source": [
    "## Semantic Understanding\n",
    "\n",
    "Embeddings excel at understanding concepts without exact keyword matches. Try different conceptual queries:"
   ]
  },
  {
   "cell_type": "code",
   "execution_count": null,
   "metadata": {},
   "outputs": [],
   "source": [
    "# Test semantic understanding with queries that don't have exact keyword matches\n",
    "semantic_queries = [\n",
    "    \"electric vehicle manufacturers\",\n",
    "    \"artificial intelligence chip makers\",\n",
    "    \"quarterly financial performance\"\n",
    "]\n",
    "\n",
    "for query in semantic_queries:\n",
    "    results = store.search(query, k=2)\n",
    "    print_search_result_summary(results, query=query)\n",
    "    print()"
   ]
  },
  {
   "cell_type": "markdown",
   "metadata": {},
   "source": [
    "## Filter by Ticker\n",
    "\n",
    "Search within a specific ticker symbol to narrow results."
   ]
  },
  {
   "cell_type": "code",
   "execution_count": null,
   "metadata": {},
   "outputs": [],
   "source": [
    "query = \"latest developments\"\n",
    "results = store.search(query, k=5, filter_ticker=\"TSLA\")\n",
    "\n",
    "print_search_result_summary(results, query=query)"
   ]
  },
  {
   "cell_type": "markdown",
   "metadata": {},
   "source": [
    "## Inspect Embeddings\n",
    "\n",
    "Look at the dense vector representation of a document."
   ]
  },
  {
   "cell_type": "code",
   "execution_count": null,
   "metadata": {},
   "outputs": [],
   "source": [
    "# Get embedding for query\n",
    "sample_embedding = store.model.encode([query])[0]\n",
    "\n",
    "print(f\"Embedded text: \\\"{query}\\\"\")\n",
    "print(f\"Embedding type: {type(sample_embedding)} | Embedding shape: {sample_embedding.shape}\")\n",
    "print(f\"\\nFirst 10 dimensions: {sample_embedding[:10]}\")"
   ]
  }
 ],
 "metadata": {
  "kernelspec": {
   "display_name": ".venv",
   "language": "python",
   "name": "python3"
  },
  "language_info": {
   "codemirror_mode": {
    "name": "ipython",
    "version": 3
   },
   "file_extension": ".py",
   "mimetype": "text/x-python",
   "name": "python",
   "nbconvert_exporter": "python",
   "pygments_lexer": "ipython3",
   "version": "3.10.9"
  }
 },
 "nbformat": 4,
 "nbformat_minor": 4
}
